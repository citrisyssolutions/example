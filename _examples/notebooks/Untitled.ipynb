{
 "cells": [
  {
   "cell_type": "code",
   "execution_count": 4,
   "id": "3f57e6cb",
   "metadata": {},
   "outputs": [],
   "source": [
    "from dataclasses import dataclass"
   ]
  },
  {
   "cell_type": "code",
   "execution_count": 10,
   "id": "b4d39e18",
   "metadata": {},
   "outputs": [],
   "source": [
    "@dataclass\n",
    "class IBase:\n",
    "    a: int\n",
    "    b: str = \"DN\""
   ]
  },
  {
   "cell_type": "code",
   "execution_count": 11,
   "id": "3c775277",
   "metadata": {},
   "outputs": [],
   "source": [
    "def find(a):\n",
    "    print(a.__doc__.split(\"(\")[0])"
   ]
  },
  {
   "cell_type": "code",
   "execution_count": 12,
   "id": "5fd345cd",
   "metadata": {},
   "outputs": [
    {
     "name": "stdout",
     "output_type": "stream",
     "text": [
      "IBase\n"
     ]
    }
   ],
   "source": [
    "find(IBase)"
   ]
  },
  {
   "cell_type": "code",
   "execution_count": 24,
   "id": "9cbbfdbc",
   "metadata": {},
   "outputs": [
    {
     "data": {
      "text/plain": [
       "'IBase'"
      ]
     },
     "execution_count": 24,
     "metadata": {},
     "output_type": "execute_result"
    }
   ],
   "source": [
    "IBase.__doc__.split(\"(\")[0]"
   ]
  },
  {
   "cell_type": "code",
   "execution_count": null,
   "id": "32dcda9d",
   "metadata": {},
   "outputs": [],
   "source": [
    "IBase.a"
   ]
  },
  {
   "cell_type": "code",
   "execution_count": null,
   "id": "fcda8628",
   "metadata": {},
   "outputs": [],
   "source": []
  }
 ],
 "metadata": {
  "kernelspec": {
   "display_name": "Python 3 (ipykernel)",
   "language": "python",
   "name": "python3"
  },
  "language_info": {
   "codemirror_mode": {
    "name": "ipython",
    "version": 3
   },
   "file_extension": ".py",
   "mimetype": "text/x-python",
   "name": "python",
   "nbconvert_exporter": "python",
   "pygments_lexer": "ipython3",
   "version": "3.9.12"
  }
 },
 "nbformat": 4,
 "nbformat_minor": 5
}
