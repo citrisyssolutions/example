{
 "cells": [
  {
   "cell_type": "markdown",
   "id": "4d89093c",
   "metadata": {},
   "source": [
    "# Importing libs"
   ]
  },
  {
   "cell_type": "code",
   "execution_count": 1,
   "id": "68446a58",
   "metadata": {},
   "outputs": [],
   "source": [
    "from sqlalchemy import Column, Integer, String, ForeignKey, Table, create_engine, MetaData\n",
    "from sqlalchemy.orm import relationship, backref, sessionmaker, registry\n",
    "from sqlalchemy.ext.declarative import declarative_base\n",
    "from dataclasses import dataclass"
   ]
  },
  {
   "cell_type": "markdown",
   "id": "a24f6055",
   "metadata": {},
   "source": [
    "## Initiating OOTB functions"
   ]
  },
  {
   "cell_type": "code",
   "execution_count": 2,
   "id": "f393219f",
   "metadata": {},
   "outputs": [],
   "source": [
    "metadata = MetaData()\n",
    "mapper_registry = registry()"
   ]
  },
  {
   "cell_type": "markdown",
   "id": "928b4461",
   "metadata": {},
   "source": [
    "## Create new table structure"
   ]
  },
  {
   "cell_type": "code",
   "execution_count": 3,
   "id": "1f596b0b",
   "metadata": {},
   "outputs": [],
   "source": [
    "room = Table(\n",
    "    \"room\",\n",
    "    metadata,\n",
    "    Column(\"id\", Integer, primary_key=True, autoincrement=True),\n",
    "    Column(\"room_name\", String(255))\n",
    ")"
   ]
  },
  {
   "cell_type": "code",
   "execution_count": 4,
   "id": "f3ca9a9e",
   "metadata": {},
   "outputs": [],
   "source": [
    "@dataclass\n",
    "class Room:\n",
    "    room_name: str"
   ]
  },
  {
   "cell_type": "code",
   "execution_count": 5,
   "id": "540a9e34",
   "metadata": {},
   "outputs": [],
   "source": [
    "engine = create_engine(\"sqlite:////tmp/mydb_2.db\")"
   ]
  },
  {
   "cell_type": "code",
   "execution_count": 6,
   "id": "0567303e",
   "metadata": {},
   "outputs": [],
   "source": [
    "metadata.create_all(engine)"
   ]
  },
  {
   "cell_type": "code",
   "execution_count": 7,
   "id": "8d5c1f1d",
   "metadata": {},
   "outputs": [
    {
     "data": {
      "text/plain": [
       "<Mapper at 0x1112869a0; Room>"
      ]
     },
     "execution_count": 7,
     "metadata": {},
     "output_type": "execute_result"
    }
   ],
   "source": [
    "mapper_registry.map_imperatively(Room, room)"
   ]
  },
  {
   "cell_type": "code",
   "execution_count": 8,
   "id": "fc66a024",
   "metadata": {},
   "outputs": [],
   "source": [
    "session = sessionmaker(bind=engine)()"
   ]
  },
  {
   "cell_type": "code",
   "execution_count": 9,
   "id": "b93e31a7",
   "metadata": {},
   "outputs": [],
   "source": [
    "new_room = Room(\"myroom2\")"
   ]
  },
  {
   "cell_type": "code",
   "execution_count": 10,
   "id": "3a369661",
   "metadata": {
    "scrolled": true
   },
   "outputs": [],
   "source": [
    "session.add(new_room)"
   ]
  },
  {
   "cell_type": "code",
   "execution_count": 11,
   "id": "f777526f",
   "metadata": {},
   "outputs": [],
   "source": [
    "session.commit()"
   ]
  },
  {
   "cell_type": "code",
   "execution_count": 12,
   "id": "88eb47d2",
   "metadata": {},
   "outputs": [],
   "source": [
    "result = session.query(Room).all()"
   ]
  },
  {
   "cell_type": "code",
   "execution_count": 13,
   "id": "d398724b",
   "metadata": {},
   "outputs": [
    {
     "name": "stdout",
     "output_type": "stream",
     "text": [
      "myroom2\n"
     ]
    }
   ],
   "source": [
    "for res in result:\n",
    "    print(res.room_name)"
   ]
  },
  {
   "cell_type": "code",
   "execution_count": null,
   "id": "02346756",
   "metadata": {},
   "outputs": [],
   "source": []
  }
 ],
 "metadata": {
  "kernelspec": {
   "display_name": "Python 3 (ipykernel)",
   "language": "python",
   "name": "python3"
  },
  "language_info": {
   "codemirror_mode": {
    "name": "ipython",
    "version": 3
   },
   "file_extension": ".py",
   "mimetype": "text/x-python",
   "name": "python",
   "nbconvert_exporter": "python",
   "pygments_lexer": "ipython3",
   "version": "3.9.12"
  }
 },
 "nbformat": 4,
 "nbformat_minor": 5
}
